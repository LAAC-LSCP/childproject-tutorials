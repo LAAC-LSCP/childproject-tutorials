{
 "cells": [
  {
   "cell_type": "markdown",
   "id": "6697b21a-4db3-4920-b7a4-35bd8cad85f3",
   "metadata": {},
   "source": [
    "## Corpora structure [[documentation]](https://childproject.readthedocs.io/en/latest/format.html)\n",
    "\n",
    "This small notebook aims to familiarize you with the structure of corpora of longform recordings adapted to the package.\n",
    "\n",
    "Corpora are divided into three main folders:\n",
    "\n",
    " - Metadata (about each recording, participant, and set of annotations)\n",
    " - Recordings (the actual audio data)\n",
    " - Annotations (the contents of each set of annotations)\n",
    "\n",
    "![](https://childproject.readthedocs.io/en/latest/_images/structure.png)\n",
    "\n",
    "For this tutorial, we will use the open-access \"VanDam\" corpus.\n",
    "\n",
    "**<- You can browse the structure of the corpus by opening it from the tree to the left**\n",
    "\n",
    "(In ``data/vandam-data``)\n",
    "\n",
    "- Metadata are stored in ``data/vandam-data/metadata`` as CSV dataframes.\n",
    "- Recordings are stored in ``data/vandam-data/recordings``.\n",
    "- Annotations are stored in ``data/vandam-data/annotations``. Each set of annotations contains the raw annotations (from the annotation software used by the annotator or the algorithm that generated them) and \"converted\", standardized annotations stored as CSV dataframes.\n",
    "\n",
    "The CLI API of our package allows you to get a quick overview of the contents of a corpus:"
   ]
  },
  {
   "cell_type": "markdown",
   "id": "f2bb5142-9679-4ef0-8764-e0feaef7877f",
   "metadata": {},
   "source": [
    "## The python package\n",
    "\n",
    "Our python package provides several functions for working with the metadata. Let's see what it can do.\n",
    "First, we open the corpus:"
   ]
  },
  {
   "cell_type": "code",
   "execution_count": 1,
   "id": "6d27bffa-073c-43da-82fe-60c10b36d78f",
   "metadata": {},
   "outputs": [],
   "source": [
    "from ChildProject.projects import ChildProject\n",
    "\n",
    "project = ChildProject(\"data/vandam-data\")\n",
    "project.read()"
   ]
  },
  {
   "cell_type": "markdown",
   "id": "dda4db80-f773-4285-8a1a-49e3b849f02d",
   "metadata": {},
   "source": [
    "We might want to check that there are no errors in the data. For that we can run ``project.validate()``, which outputs a list of errors and a list of warnings."
   ]
  },
  {
   "cell_type": "code",
   "execution_count": 2,
   "id": "5353eda2-7533-444b-b350-f05599c8ec9a",
   "metadata": {},
   "outputs": [
    {
     "data": {
      "text/plain": [
       "([], [])"
      ]
     },
     "execution_count": 2,
     "metadata": {},
     "output_type": "execute_result"
    }
   ],
   "source": [
    "project.validate()"
   ]
  },
  {
   "cell_type": "markdown",
   "id": "34f864aa-7bd6-4530-99fa-af8198dc78ca",
   "metadata": {},
   "source": [
    "Let's see the content of the metadata. ChildProject loads the metadata for recordings and children as pandas' dataframes: "
   ]
  },
  {
   "cell_type": "code",
   "execution_count": 3,
   "id": "12c874b0-78e8-4447-a3d5-d3e9eb59fe64",
   "metadata": {},
   "outputs": [
    {
     "data": {
      "text/html": [
       "<div>\n",
       "<style scoped>\n",
       "    .dataframe tbody tr th:only-of-type {\n",
       "        vertical-align: middle;\n",
       "    }\n",
       "\n",
       "    .dataframe tbody tr th {\n",
       "        vertical-align: top;\n",
       "    }\n",
       "\n",
       "    .dataframe thead th {\n",
       "        text-align: right;\n",
       "    }\n",
       "</style>\n",
       "<table border=\"1\" class=\"dataframe\">\n",
       "  <thead>\n",
       "    <tr style=\"text-align: right;\">\n",
       "      <th></th>\n",
       "      <th>experiment</th>\n",
       "      <th>child_id</th>\n",
       "      <th>date_iso</th>\n",
       "      <th>start_time</th>\n",
       "      <th>recording_device_type</th>\n",
       "      <th>recording_filename</th>\n",
       "      <th>duration</th>\n",
       "    </tr>\n",
       "  </thead>\n",
       "  <tbody>\n",
       "    <tr>\n",
       "      <th>2</th>\n",
       "      <td>vandam-daylong</td>\n",
       "      <td>1</td>\n",
       "      <td>2010-07-24</td>\n",
       "      <td>06:58</td>\n",
       "      <td>lena</td>\n",
       "      <td>BN32_010007.mp3</td>\n",
       "      <td>50464512</td>\n",
       "    </tr>\n",
       "  </tbody>\n",
       "</table>\n",
       "</div>"
      ],
      "text/plain": [
       "       experiment  child_id    date_iso start_time recording_device_type  \\\n",
       "2  vandam-daylong         1  2010-07-24      06:58                  lena   \n",
       "\n",
       "  recording_filename  duration  \n",
       "2    BN32_010007.mp3  50464512  "
      ]
     },
     "execution_count": 3,
     "metadata": {},
     "output_type": "execute_result"
    }
   ],
   "source": [
    "project.recordings"
   ]
  },
  {
   "cell_type": "code",
   "execution_count": 4,
   "id": "c0cd3a8f-588e-4fdb-b266-e604926532bd",
   "metadata": {},
   "outputs": [
    {
     "data": {
      "text/html": [
       "<div>\n",
       "<style scoped>\n",
       "    .dataframe tbody tr th:only-of-type {\n",
       "        vertical-align: middle;\n",
       "    }\n",
       "\n",
       "    .dataframe tbody tr th {\n",
       "        vertical-align: top;\n",
       "    }\n",
       "\n",
       "    .dataframe thead th {\n",
       "        text-align: right;\n",
       "    }\n",
       "</style>\n",
       "<table border=\"1\" class=\"dataframe\">\n",
       "  <thead>\n",
       "    <tr style=\"text-align: right;\">\n",
       "      <th></th>\n",
       "      <th>experiment</th>\n",
       "      <th>child_id</th>\n",
       "      <th>child_dob</th>\n",
       "      <th>dob_criterion</th>\n",
       "      <th>dob_accuracy</th>\n",
       "    </tr>\n",
       "  </thead>\n",
       "  <tbody>\n",
       "    <tr>\n",
       "      <th>2</th>\n",
       "      <td>vandam-daylong</td>\n",
       "      <td>1</td>\n",
       "      <td>2009-07-24</td>\n",
       "      <td>extrapolated</td>\n",
       "      <td>month</td>\n",
       "    </tr>\n",
       "  </tbody>\n",
       "</table>\n",
       "</div>"
      ],
      "text/plain": [
       "       experiment  child_id   child_dob dob_criterion dob_accuracy\n",
       "2  vandam-daylong         1  2009-07-24  extrapolated        month"
      ]
     },
     "execution_count": 4,
     "metadata": {},
     "output_type": "execute_result"
    }
   ],
   "source": [
    "project.children"
   ]
  },
  {
   "cell_type": "markdown",
   "id": "d63b639c-1217-46df-bedc-3dc3f69d4d83",
   "metadata": {},
   "source": [
    "Notice that the metadata contains recordings' date and the children' birth date. Now, based on this, we might want to calculate the age of the child for each recording (in this case, there is just one..):"
   ]
  },
  {
   "cell_type": "code",
   "execution_count": 5,
   "id": "647b7f32-3bc5-4851-9c55-cefb057feb6d",
   "metadata": {},
   "outputs": [
    {
     "data": {
      "text/html": [
       "<div>\n",
       "<style scoped>\n",
       "    .dataframe tbody tr th:only-of-type {\n",
       "        vertical-align: middle;\n",
       "    }\n",
       "\n",
       "    .dataframe tbody tr th {\n",
       "        vertical-align: top;\n",
       "    }\n",
       "\n",
       "    .dataframe thead th {\n",
       "        text-align: right;\n",
       "    }\n",
       "</style>\n",
       "<table border=\"1\" class=\"dataframe\">\n",
       "  <thead>\n",
       "    <tr style=\"text-align: right;\">\n",
       "      <th></th>\n",
       "      <th>experiment</th>\n",
       "      <th>child_id</th>\n",
       "      <th>date_iso</th>\n",
       "      <th>start_time</th>\n",
       "      <th>recording_device_type</th>\n",
       "      <th>recording_filename</th>\n",
       "      <th>duration</th>\n",
       "      <th>age</th>\n",
       "    </tr>\n",
       "  </thead>\n",
       "  <tbody>\n",
       "    <tr>\n",
       "      <th>2</th>\n",
       "      <td>vandam-daylong</td>\n",
       "      <td>1</td>\n",
       "      <td>2010-07-24</td>\n",
       "      <td>06:58</td>\n",
       "      <td>lena</td>\n",
       "      <td>BN32_010007.mp3</td>\n",
       "      <td>50464512</td>\n",
       "      <td>11.991786</td>\n",
       "    </tr>\n",
       "  </tbody>\n",
       "</table>\n",
       "</div>"
      ],
      "text/plain": [
       "       experiment  child_id    date_iso start_time recording_device_type  \\\n",
       "2  vandam-daylong         1  2010-07-24      06:58                  lena   \n",
       "\n",
       "  recording_filename  duration        age  \n",
       "2    BN32_010007.mp3  50464512  11.991786  "
      ]
     },
     "execution_count": 5,
     "metadata": {},
     "output_type": "execute_result"
    }
   ],
   "source": [
    "project.recordings[\"age\"] = project.compute_ages()\n",
    "project.recordings"
   ]
  },
  {
   "cell_type": "markdown",
   "id": "59abec2b-da14-45ce-b2bf-84396dad0f1a",
   "metadata": {},
   "source": [
    "Now that you know how metadata is organized within corpora, let's see how to manipulate annotations."
   ]
  }
 ],
 "metadata": {
  "kernelspec": {
   "display_name": "Python 3 (ipykernel)",
   "language": "python",
   "name": "python3"
  },
  "language_info": {
   "codemirror_mode": {
    "name": "ipython",
    "version": 3
   },
   "file_extension": ".py",
   "mimetype": "text/x-python",
   "name": "python",
   "nbconvert_exporter": "python",
   "pygments_lexer": "ipython3",
   "version": "3.11.7"
  }
 },
 "nbformat": 4,
 "nbformat_minor": 5
}
